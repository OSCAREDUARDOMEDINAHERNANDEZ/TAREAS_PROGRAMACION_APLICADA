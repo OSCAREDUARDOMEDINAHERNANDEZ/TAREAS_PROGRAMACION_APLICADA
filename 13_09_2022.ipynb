{
  "nbformat": 4,
  "nbformat_minor": 0,
  "metadata": {
    "colab": {
      "provenance": [],
      "authorship_tag": "ABX9TyPz6opr22SEWj9Q2mAz4BIG",
      "include_colab_link": true
    },
    "kernelspec": {
      "name": "python3",
      "display_name": "Python 3"
    },
    "language_info": {
      "name": "python"
    }
  },
  "cells": [
    {
      "cell_type": "markdown",
      "metadata": {
        "id": "view-in-github",
        "colab_type": "text"
      },
      "source": [
        "<a href=\"https://colab.research.google.com/github/OSCAREDUARDOMEDINAHERNANDEZ/TAREAS_PROGRAMACION_APLICADA/blob/main/13_09_2022.ipynb\" target=\"_parent\"><img src=\"https://colab.research.google.com/assets/colab-badge.svg\" alt=\"Open In Colab\"/></a>"
      ]
    },
    {
      "cell_type": "code",
      "execution_count": null,
      "metadata": {
        "colab": {
          "base_uri": "https://localhost:8080/",
          "height": 252
        },
        "id": "4C26p5yxQavy",
        "outputId": "d710b857-5275-42ca-8626-251e82246183"
      },
      "outputs": [
        {
          "output_type": "stream",
          "name": "stdout",
          "text": [
            "ingrese los valores del vector 1 separadas por comas1,2,3\n",
            "[1.0, 2.0, 3.0]\n"
          ]
        },
        {
          "output_type": "error",
          "ename": "NameError",
          "evalue": "ignored",
          "traceback": [
            "\u001b[0;31m---------------------------------------------------------------------------\u001b[0m",
            "\u001b[0;31mNameError\u001b[0m                                 Traceback (most recent call last)",
            "\u001b[0;32m<ipython-input-55-b49c9425c5d8>\u001b[0m in \u001b[0;36m<module>\u001b[0;34m\u001b[0m\n\u001b[1;32m      8\u001b[0m \u001b[0mres\u001b[0m\u001b[0;34m=\u001b[0m\u001b[0;36m0\u001b[0m\u001b[0;34m\u001b[0m\u001b[0;34m\u001b[0m\u001b[0m\n\u001b[1;32m      9\u001b[0m \u001b[0;32mfor\u001b[0m \u001b[0mi\u001b[0m \u001b[0;32min\u001b[0m \u001b[0mrange\u001b[0m \u001b[0;34m(\u001b[0m\u001b[0mlen\u001b[0m\u001b[0;34m(\u001b[0m\u001b[0mv1\u001b[0m\u001b[0;34m)\u001b[0m\u001b[0;34m)\u001b[0m\u001b[0;34m:\u001b[0m\u001b[0;34m\u001b[0m\u001b[0;34m\u001b[0m\u001b[0m\n\u001b[0;32m---> 10\u001b[0;31m   \u001b[0mres\u001b[0m\u001b[0;34m=\u001b[0m\u001b[0mres\u001b[0m\u001b[0;34m+\u001b[0m\u001b[0mv1\u001b[0m\u001b[0;34m[\u001b[0m\u001b[0mi\u001b[0m\u001b[0;34m]\u001b[0m\u001b[0;34m*\u001b[0m\u001b[0mv2\u001b[0m\u001b[0;34m[\u001b[0m\u001b[0mi\u001b[0m\u001b[0;34m]\u001b[0m\u001b[0;34m\u001b[0m\u001b[0;34m\u001b[0m\u001b[0m\n\u001b[0m\u001b[1;32m     11\u001b[0m   \u001b[0mprint\u001b[0m\u001b[0;34m(\u001b[0m\u001b[0mres\u001b[0m\u001b[0;34m)\u001b[0m\u001b[0;34m\u001b[0m\u001b[0;34m\u001b[0m\u001b[0m\n",
            "\u001b[0;31mNameError\u001b[0m: name 'v2' is not defined"
          ]
        }
      ],
      "source": [
        "import numpy as np\n",
        "\n",
        "v1str=(input(\"ingrese los valores del vector 1 separadas por comas\"))\n",
        "v1=v1str.split(',')\n",
        "v1=[float (element)for element in v1]\n",
        "print(v1)\n",
        "res=np.dot(v1,v2) \n",
        "res=0\n",
        "for i in range (len(v1)):\n",
        "  res=res+v1[i]*v2[i]\n",
        "  print(res)"
      ]
    },
    {
      "cell_type": "code",
      "source": [
        "\n",
        "import numpy as np\n",
        "lista=[]\n",
        "while True:\n",
        "  val=input(\"ingrese un valor o fin\")\n",
        "  if val==\"fin\":break \n",
        "  else:\n",
        "    lista.append(float(val))\n",
        "    m=np.mean (lista)\n",
        "    std=np.std(lista)\n",
        "    print(\"media\",m)\n",
        "    print(\"desviacion\",std)\n"
      ],
      "metadata": {
        "colab": {
          "base_uri": "https://localhost:8080/"
        },
        "id": "FM9kIceEVPL_",
        "outputId": "98b097d5-3b54-44ed-b2e9-ba20ad1bd5ae"
      },
      "execution_count": null,
      "outputs": [
        {
          "name": "stdout",
          "output_type": "stream",
          "text": [
            "ingrese un valor o fin2\n",
            "media 2.0\n",
            "desviacion 0.0\n",
            "ingrese un valor o fin5\n",
            "media 3.5\n",
            "desviacion 1.5\n",
            "ingrese un valor o fin6\n",
            "media 4.333333333333333\n",
            "desviacion 1.699673171197595\n",
            "ingrese un valor o fin10\n",
            "media 5.75\n",
            "desviacion 2.8613807855648994\n",
            "ingrese un valor o finfin\n"
          ]
        }
      ]
    }
  ]
}