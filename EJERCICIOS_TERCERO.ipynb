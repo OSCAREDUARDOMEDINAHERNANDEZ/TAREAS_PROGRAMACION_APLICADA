{
  "nbformat": 4,
  "nbformat_minor": 0,
  "metadata": {
    "colab": {
      "provenance": [],
      "authorship_tag": "ABX9TyPd/oXXjWlRgy+51QUBdIKY",
      "include_colab_link": true
    },
    "kernelspec": {
      "name": "python3",
      "display_name": "Python 3"
    },
    "language_info": {
      "name": "python"
    }
  },
  "cells": [
    {
      "cell_type": "markdown",
      "metadata": {
        "id": "view-in-github",
        "colab_type": "text"
      },
      "source": [
        "<a href=\"https://colab.research.google.com/github/OSCAREDUARDOMEDINAHERNANDEZ/TAREAS_PROGRAMACION_APLICADA/blob/main/EJERCICIOS_TERCERO.ipynb\" target=\"_parent\"><img src=\"https://colab.research.google.com/assets/colab-badge.svg\" alt=\"Open In Colab\"/></a>"
      ]
    },
    {
      "cell_type": "code",
      "execution_count": null,
      "metadata": {
        "colab": {
          "base_uri": "https://localhost:8080/"
        },
        "id": "5Pr75-ZTnEoX",
        "outputId": "0f72c045-ca04-4944-c111-062862169ca7"
      },
      "outputs": [
        {
          "output_type": "stream",
          "name": "stdout",
          "text": [
            "ingresa el nombre de la moneda extranjera para conocer su simbolo  DOLLAR\n",
            "EL SIMBOLO DEL  DOLLAR  CORRESPONDE A:  $\n"
          ]
        }
      ],
      "source": [
        "DIC={'Euro':'€','Dollar':'$','yen':'¥'}\n",
        "usu=input(\"ingresa el nombre de la moneda extranjera para conocer su simbolo  \")\n",
        "if usu.title() in DIC:\n",
        "  print(\"EL SIMBOLO DEL \",usu,\" CORRESPONDE A: \",(DIC[usu.title()]))"
      ]
    },
    {
      "cell_type": "code",
      "source": [
        "while True:\n",
        "  edad = input('Introduce tu edad: ')\n",
        "  nombre = input('Introduce tu nombre : ')\n",
        "  direccion = input('Introduce tu dirección : ')\n",
        "  telefono = input('Introduce tu teléfono : ')\n",
        "  email = input('Introduce tu correo electrónico : ')\n",
        "  usuario = {'nombre':nombre,'dirección':direccion,'teléfono':telefono,'edad':edad,\"correo\":email}\n",
        "  print(\"Datos del usuario: \",usuario)\n",
        "  print(\"el nombre del usurio es : \",usuario [\"nombre\"])\n",
        "  query=input(\"escriba Y para finalizar: \")\n",
        "  \n",
        "  if query.upper()== \"Y\":\n",
        "    break\n",
        "\n",
        " "
      ],
      "metadata": {
        "id": "zjPkeI0PsCjm",
        "colab": {
          "base_uri": "https://localhost:8080/"
        },
        "outputId": "55aaaef9-8aac-4f46-a677-7a8c87001ff4"
      },
      "execution_count": null,
      "outputs": [
        {
          "name": "stdout",
          "output_type": "stream",
          "text": [
            "Introduce tu edad: 12\n",
            "Introduce tu nombre : oscar\n",
            "Introduce tu dirección : 5456454\n",
            "Introduce tu teléfono : 564456426\n",
            "Introduce tu correo electrónico : 546456546\n",
            "Datos del usuario:  {'nombre': 'oscar', 'dirección': '5456454', 'teléfono': '564456426', 'edad': '12', 'correo': '546456546'}\n",
            "elnombre delusurio es :  oscar\n",
            "escriba Y para finalizary\n"
          ]
        }
      ]
    },
    {
      "cell_type": "code",
      "source": [
        "{Plátano:1.35, Manzana:0.80, Pera:0.85, Naranja:0.70}"
      ],
      "metadata": {
        "id": "Bjpg-5yt6Lsl"
      },
      "execution_count": null,
      "outputs": []
    }
  ]
}