{
  "nbformat": 4,
  "nbformat_minor": 0,
  "metadata": {
    "colab": {
      "provenance": [],
      "authorship_tag": "ABX9TyN6rwXp4QamfFWeDJH0s3QC",
      "include_colab_link": true
    },
    "kernelspec": {
      "name": "python3",
      "display_name": "Python 3"
    },
    "language_info": {
      "name": "python"
    }
  },
  "cells": [
    {
      "cell_type": "markdown",
      "metadata": {
        "id": "view-in-github",
        "colab_type": "text"
      },
      "source": [
        "<a href=\"https://colab.research.google.com/github/OSCAREDUARDOMEDINAHERNANDEZ/TAREAS_PROGRAMACION_APLICADA/blob/main/CORDENADAS.ipynb\" target=\"_parent\"><img src=\"https://colab.research.google.com/assets/colab-badge.svg\" alt=\"Open In Colab\"/></a>"
      ]
    },
    {
      "cell_type": "code",
      "execution_count": 1,
      "metadata": {
        "colab": {
          "base_uri": "https://localhost:8080/"
        },
        "id": "zjF-wc1b_VwW",
        "outputId": "04c9953c-b5db-4403-85fa-416fcf6a1bb4"
      },
      "outputs": [
        {
          "output_type": "execute_result",
          "data": {
            "text/plain": [
              "3.0"
            ]
          },
          "metadata": {},
          "execution_count": 1
        }
      ],
      "source": [
        "\n",
        "import math\n",
        "math.sqrt(9)"
      ]
    },
    {
      "cell_type": "code",
      "source": [
        "class Punto:\n",
        "\n",
        "    def __init__(self, x=0, y=0):\n",
        "        self.x = x\n",
        "        self.y = y\n",
        "\n",
        "    def __str__(self):\n",
        "        return \"({}, {})\".format(self.x, self.y)\n",
        "\n",
        "    def __repr__(self):\n",
        "        return str(self)\n",
        "\n",
        "    def cuadrante(self):\n",
        "        if self.x > 0 and self.y > 0:\n",
        "            print(\"{} pertenece al primer cuadrante\".format(self))\n",
        "        elif self.x < 0 and self.y > 0:\n",
        "            print(\"{} pertenece al segundo cuadrante\".format(self))\n",
        "        elif self.x < 0 and self.y < 0:\n",
        "            print(\"{} pertenece al tercer cuadrante\".format(self))\n",
        "        elif self.x > 0 and self.y < 0:\n",
        "            print(\"{} pertenece al cuarto cuadrante\".format(self))\n",
        "        elif self.x != 0 and self.y == 0:\n",
        "            print(\"{} se sitúa sobre el eje X\".format(self))\n",
        "        elif self.x == 0 and self.y != 0:\n",
        "            print(\"{} se sitúa sobre el eje Y\".format(self))\n",
        "        else:\n",
        "            print(\"{} se encuentra sobre el origen\".format(self))\n",
        "\n",
        "    def vector(self, p):\n",
        "        print(\"El vector entre {} y {} es ({}, {})\".format(\n",
        "            self, p, p.x - self.x, p.y - self.y) )\n",
        "\n",
        "    def distancia(self, p):\n",
        "        d = round(math.sqrt( (p.x - self.x)**2 + (p.y - self.y)**2 ),2)\n",
        "        print(\"La distancia entre los puntos {} y {} es {}\".format(\n",
        "            self, p, d))\n",
        "        return  d"
      ],
      "metadata": {
        "id": "SBaXcpQA_Ypc"
      },
      "execution_count": 2,
      "outputs": []
    },
    {
      "cell_type": "code",
      "source": [
        "A=Punto(2,3)\n",
        "B=Punto(5,5)\n",
        "C=Punto(-3,-1)\n",
        "D=Punto()\n",
        "print(A,B,C,D)\n",
        "lista_puntos=[A,B,C,D]\n",
        "print(lista_puntos)\n"
      ],
      "metadata": {
        "colab": {
          "base_uri": "https://localhost:8080/"
        },
        "id": "LDih_KET_byk",
        "outputId": "63c1c98f-0c3d-468a-f12c-7b8a3add2328"
      },
      "execution_count": 7,
      "outputs": [
        {
          "output_type": "stream",
          "name": "stdout",
          "text": [
            "(2, 3) (5, 5) (-3, -1) (0, 0)\n",
            "[(2, 3), (5, 5), (-3, -1), (0, 0)]\n"
          ]
        }
      ]
    },
    {
      "cell_type": "code",
      "source": [
        "A.cuadrante()\n",
        "C.cuadrante()\n",
        "D.cuadrante()"
      ],
      "metadata": {
        "colab": {
          "base_uri": "https://localhost:8080/"
        },
        "id": "RFHHT4El_n7M",
        "outputId": "b01166b1-1d00-4d90-df00-6a36c52c19c4"
      },
      "execution_count": 8,
      "outputs": [
        {
          "output_type": "stream",
          "name": "stdout",
          "text": [
            "(2, 3) pertenece al primer cuadrante\n",
            "(-3, -1) pertenece al tercer cuadrante\n",
            "(0, 0) se encuentra sobre el origen\n"
          ]
        }
      ]
    },
    {
      "cell_type": "code",
      "source": [
        "A.vector(B)\n",
        "B.vector(A)"
      ],
      "metadata": {
        "colab": {
          "base_uri": "https://localhost:8080/"
        },
        "id": "ZgH4ht6f_sos",
        "outputId": "f5cb939a-82ca-481b-e2bb-a9e2cbf934e6"
      },
      "execution_count": 9,
      "outputs": [
        {
          "output_type": "stream",
          "name": "stdout",
          "text": [
            "El vector entre (2, 3) y (5, 5) es (3, 2)\n",
            "El vector entre (5, 5) y (2, 3) es (-3, -2)\n"
          ]
        }
      ]
    },
    {
      "cell_type": "code",
      "source": [
        "A.distancia(B)\n",
        "B.distancia(A)\n"
      ],
      "metadata": {
        "colab": {
          "base_uri": "https://localhost:8080/"
        },
        "id": "R3P8Ni0V_swM",
        "outputId": "d5301586-4006-4696-a892-68bc1c310394"
      },
      "execution_count": 10,
      "outputs": [
        {
          "output_type": "stream",
          "name": "stdout",
          "text": [
            "La distancia entre los puntos (2, 3) y (5, 5) es 3.61\n",
            "La distancia entre los puntos (5, 5) y (2, 3) es 3.61\n"
          ]
        },
        {
          "output_type": "execute_result",
          "data": {
            "text/plain": [
              "3.61"
            ]
          },
          "metadata": {},
          "execution_count": 10
        }
      ]
    },
    {
      "cell_type": "code",
      "source": [
        "distancias=[A.distancia(D),B.distancia(D),C.distancia(D)]\n",
        "if max(distancias)==distancias[0]:\n",
        "  print(\"el punto más lejano es A\")\n",
        "elif max(distancias)==distancias[1]:\n",
        "  print(\"el punto más lejano es B\")\n",
        "else:\n",
        "  print(\"el punto más lejano es C\")"
      ],
      "metadata": {
        "colab": {
          "base_uri": "https://localhost:8080/"
        },
        "id": "xYxvZlw9_02_",
        "outputId": "3631cd6f-a701-4c18-92d8-0539c5033bec"
      },
      "execution_count": 11,
      "outputs": [
        {
          "output_type": "stream",
          "name": "stdout",
          "text": [
            "La distancia entre los puntos (2, 3) y (0, 0) es 3.61\n",
            "La distancia entre los puntos (5, 5) y (0, 0) es 7.07\n",
            "La distancia entre los puntos (-3, -1) y (0, 0) es 3.16\n",
            "el punto más lejano es B\n"
          ]
        }
      ]
    }
  ]
}