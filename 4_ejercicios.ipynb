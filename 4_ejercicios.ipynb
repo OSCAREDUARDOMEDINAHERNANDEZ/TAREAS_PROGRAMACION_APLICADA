{
  "nbformat": 4,
  "nbformat_minor": 0,
  "metadata": {
    "colab": {
      "provenance": [],
      "authorship_tag": "ABX9TyPJTcqE9irBEtqM1w4qQNLi",
      "include_colab_link": true
    },
    "kernelspec": {
      "name": "python3",
      "display_name": "Python 3"
    },
    "language_info": {
      "name": "python"
    }
  },
  "cells": [
    {
      "cell_type": "markdown",
      "metadata": {
        "id": "view-in-github",
        "colab_type": "text"
      },
      "source": [
        "<a href=\"https://colab.research.google.com/github/OSCAREDUARDOMEDINAHERNANDEZ/TAREAS_PROGRAMACION_APLICADA/blob/main/4_ejercicios.ipynb\" target=\"_parent\"><img src=\"https://colab.research.google.com/assets/colab-badge.svg\" alt=\"Open In Colab\"/></a>"
      ]
    },
    {
      "cell_type": "code",
      "execution_count": null,
      "metadata": {
        "id": "bS0B2H4w9pZr",
        "outputId": "4f19e530-a939-486e-bbe1-6dfa91d506c3",
        "colab": {
          "base_uri": "https://localhost:8080/"
        }
      },
      "outputs": [
        {
          "output_type": "stream",
          "name": "stdout",
          "text": [
            "¿Qué fruta quieres? platano\n",
            "¿Cuántos kilos? 2\n",
            "2.0 EL KILO DE  Platano CUESTA 2.7 $\n"
          ]
        }
      ],
      "source": [
        "frutas={'Platano':1.35, 'Manzana':0.8, 'Pera':0.85, 'Naranja':0.7}\n",
        "fruta=input('¿Qué fruta quieres? ').title()\n",
        "kg=float(input('¿Cuántos kilos? '))\n",
        "if fruta in frutas:\n",
        "    print(kg, 'kilos de ', fruta, 'Cuesta', frutas[fruta]*kg, '$')\n",
        "else: \n",
        "    print(\"Este articulo : \", fruta, \"No está disponible\")"
      ]
    },
    {
      "cell_type": "code",
      "source": [
        "cesta = {}\n",
        "continuar = True\n",
        "while continuar:\n",
        "  item = input('Introduce un producto: ')\n",
        "  precio = float(input('Introduce el precio de ' + item + ': '))\n",
        "  cesta[item] = precio\n",
        "  continuar = input('¿añadir productos a la lista (Si/No)? ') == \"Si\"\n",
        "  coste = 0\n",
        "  print('Lista de la compra')\n",
        "  for item, precio in cesta.items():\n",
        "    print(item, '\\t', precio)\n",
        "    coste += precio\n",
        "    print('Coste total: ', coste)"
      ],
      "metadata": {
        "colab": {
          "base_uri": "https://localhost:8080/"
        },
        "id": "u6vVUNab_CRz",
        "outputId": "40c0be06-5836-4ac5-a4b3-3b56ac818eed"
      },
      "execution_count": 2,
      "outputs": [
        {
          "output_type": "stream",
          "name": "stdout",
          "text": [
            "Introduce un producto: LECHE\n",
            "Introduce el precio de LECHE: 2200\n",
            "¿añadir productos a la lista (Si/No)? NO\n",
            "Lista de la compra\n",
            "LECHE \t 2200.0\n",
            "Coste total:  2200.0\n"
          ]
        }
      ]
    },
    {
      "cell_type": "code",
      "source": [],
      "metadata": {
        "id": "pzvzFjH89bkE"
      },
      "execution_count": null,
      "outputs": []
    }
  ]
}