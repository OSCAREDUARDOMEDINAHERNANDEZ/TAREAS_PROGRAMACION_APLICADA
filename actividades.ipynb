{
  "nbformat": 4,
  "nbformat_minor": 0,
  "metadata": {
    "colab": {
      "provenance": [],
      "authorship_tag": "ABX9TyPRC9n5L3oxxypTVuTKED1p",
      "include_colab_link": true
    },
    "kernelspec": {
      "name": "python3",
      "display_name": "Python 3"
    },
    "language_info": {
      "name": "python"
    }
  },
  "cells": [
    {
      "cell_type": "markdown",
      "metadata": {
        "id": "view-in-github",
        "colab_type": "text"
      },
      "source": [
        "<a href=\"https://colab.research.google.com/github/OSCAREDUARDOMEDINAHERNANDEZ/TAREAS_PROGRAMACION_APLICADA/blob/main/actividades.ipynb\" target=\"_parent\"><img src=\"https://colab.research.google.com/assets/colab-badge.svg\" alt=\"Open In Colab\"/></a>"
      ]
    },
    {
      "cell_type": "markdown",
      "source": [
        "**Hola Mundo**"
      ],
      "metadata": {
        "id": "1IEC9C2aQZSE"
      }
    },
    {
      "cell_type": "code",
      "source": [
        "print (\"hello world\")"
      ],
      "metadata": {
        "id": "9Cwq9NsWQYfT"
      },
      "execution_count": null,
      "outputs": []
    },
    {
      "cell_type": "markdown",
      "source": [
        " **Declaración de Variables**"
      ],
      "metadata": {
        "id": "KNpJ6TphQdyZ"
      }
    },
    {
      "cell_type": "code",
      "source": [
        "name= \"oscar\"\n",
        "print (\"hola\",name)"
      ],
      "metadata": {
        "id": "TBnjTt8jQo_Q"
      },
      "execution_count": null,
      "outputs": []
    },
    {
      "cell_type": "markdown",
      "source": [
        "**Operaciones aritméticas Básicas**"
      ],
      "metadata": {
        "id": "CAT184acQ3Te"
      }
    },
    {
      "cell_type": "code",
      "source": [
        "a=10\n",
        "b=2\n",
        "print (\"suma\",a+b)\n",
        "print (\"resta\",a-b)\n",
        "print (\"multiplicacion\",a*b)\n",
        "print (\"divicion\",a/b)\n",
        "print (\"cociente\",a//b)\n",
        "print (\"potencia\",a**b)\n",
        "print (\"radicacion\",a**(1/b))"
      ],
      "metadata": {
        "id": "yOsVgdpCQzKO"
      },
      "execution_count": null,
      "outputs": []
    }
  ]
}