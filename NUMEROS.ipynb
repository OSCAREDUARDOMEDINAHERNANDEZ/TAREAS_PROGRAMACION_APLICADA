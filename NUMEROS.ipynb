{
  "nbformat": 4,
  "nbformat_minor": 0,
  "metadata": {
    "colab": {
      "provenance": [],
      "authorship_tag": "ABX9TyNuDcBNnzF6p/T0uCIulCbo",
      "include_colab_link": true
    },
    "kernelspec": {
      "name": "python3",
      "display_name": "Python 3"
    },
    "language_info": {
      "name": "python"
    }
  },
  "cells": [
    {
      "cell_type": "markdown",
      "metadata": {
        "id": "view-in-github",
        "colab_type": "text"
      },
      "source": [
        "<a href=\"https://colab.research.google.com/github/OSCAREDUARDOMEDINAHERNANDEZ/TAREAS_PROGRAMACION_APLICADA/blob/main/NUMEROS.ipynb\" target=\"_parent\"><img src=\"https://colab.research.google.com/assets/colab-badge.svg\" alt=\"Open In Colab\"/></a>"
      ]
    },
    {
      "cell_type": "code",
      "execution_count": null,
      "metadata": {
        "colab": {
          "base_uri": "https://localhost:8080/"
        },
        "id": "3raBaBMzXj2K",
        "outputId": "8ea35423-e77f-4328-b355-7af49c792a66"
      },
      "outputs": [
        {
          "output_type": "stream",
          "name": "stdout",
          "text": [
            "ingrese desde que numero inicia a contar 5\n",
            "ingrese hasta que numero termina de contar10\n",
            "5.0\n",
            "6.0\n",
            "7.0\n",
            "8.0\n",
            "9.0\n",
            "10.0\n"
          ]
        }
      ],
      "source": [
        "NUMERO1=float (input(\"ingrese desde que numero inicia a contar \"))\n",
        "NUMERO2=float (input(\"ingrese hasta que numero termina de contar\"))\n",
        "iC=NUMERO1\n",
        "while NUMERO1<=NUMERO2:\n",
        "  print(NUMERO1)\n",
        "  NUMERO1=NUMERO1+1\n",
        "        \n",
        "     \n",
        "  \n",
        "   \n",
        "           \n",
        "\n",
        "\n"
      ]
    }
  ]
}