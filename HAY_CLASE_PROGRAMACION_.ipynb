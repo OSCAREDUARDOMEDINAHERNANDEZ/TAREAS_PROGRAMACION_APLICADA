{
  "nbformat": 4,
  "nbformat_minor": 0,
  "metadata": {
    "colab": {
      "provenance": [],
      "authorship_tag": "ABX9TyOtWbiEgx6BbYDl5vvrWDjC",
      "include_colab_link": true
    },
    "kernelspec": {
      "name": "python3",
      "display_name": "Python 3"
    },
    "language_info": {
      "name": "python"
    }
  },
  "cells": [
    {
      "cell_type": "markdown",
      "metadata": {
        "id": "view-in-github",
        "colab_type": "text"
      },
      "source": [
        "<a href=\"https://colab.research.google.com/github/OSCAREDUARDOMEDINAHERNANDEZ/TAREAS_PROGRAMACION_APLICADA/blob/main/HAY_CLASE_PROGRAMACION_.ipynb\" target=\"_parent\"><img src=\"https://colab.research.google.com/assets/colab-badge.svg\" alt=\"Open In Colab\"/></a>"
      ]
    },
    {
      "cell_type": "code",
      "execution_count": 3,
      "metadata": {
        "colab": {
          "base_uri": "https://localhost:8080/"
        },
        "id": "yxv8GuKohtRk",
        "outputId": "f3844310-b036-46f3-97f7-baf1bc687269"
      },
      "outputs": [
        {
          "output_type": "stream",
          "name": "stdout",
          "text": [
            "HOY SI HAY CLASE DE PROGRAMACION \n"
          ]
        }
      ],
      "source": [
        "from datetime import datetime, timedelta\n",
        "from time import strftime\n",
        "A = datetime.now()\n",
        "B=A - timedelta(hours=5)\n",
        "current_time = B.strftime(\"%H:%M:%S\")\n",
        "if(dia==2 or dia==4):\n",
        "  print(\"HOY SI HAY CLASE DE PROGRAMACION \")\n",
        "else:\n",
        "  print(\"HOY NO HAY CLASE DE PROGRAMACION \")"
      ]
    }
  ]
}