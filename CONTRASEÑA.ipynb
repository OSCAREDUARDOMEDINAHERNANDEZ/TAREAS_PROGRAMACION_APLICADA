{
  "nbformat": 4,
  "nbformat_minor": 0,
  "metadata": {
    "colab": {
      "provenance": [],
      "include_colab_link": true
    },
    "kernelspec": {
      "name": "python3",
      "display_name": "Python 3"
    },
    "language_info": {
      "name": "python"
    }
  },
  "cells": [
    {
      "cell_type": "markdown",
      "metadata": {
        "id": "view-in-github",
        "colab_type": "text"
      },
      "source": [
        "<a href=\"https://colab.research.google.com/github/OSCAREDUARDOMEDINAHERNANDEZ/TAREAS_PROGRAMACION_APLICADA/blob/main/CONTRASE%C3%91A.ipynb\" target=\"_parent\"><img src=\"https://colab.research.google.com/assets/colab-badge.svg\" alt=\"Open In Colab\"/></a>"
      ]
    },
    {
      "cell_type": "code",
      "execution_count": null,
      "metadata": {
        "id": "yEewFy7fjkhn"
      },
      "outputs": [],
      "source": [
        "contrasena=\"1234\"\n",
        "while True:\n",
        "  entrada=input(\"INGRESE SU CONTRASEÑA : \")\n",
        "  if (contrasena==entrada):\n",
        "    print(\"INGRESO// BIENVENIDO\")\n",
        "    break\n",
        "  else:\n",
        "      print(\"CONTRASEÑA INCORRECTA VUELVE A INGRESARLA \")\n"
      ]
    }
  ]
}