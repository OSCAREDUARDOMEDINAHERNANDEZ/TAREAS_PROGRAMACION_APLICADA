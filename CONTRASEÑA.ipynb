{
  "nbformat": 4,
  "nbformat_minor": 0,
  "metadata": {
    "colab": {
      "provenance": [],
      "authorship_tag": "ABX9TyNLw5sjxyCNzUFwqjxjZEpX",
      "include_colab_link": true
    },
    "kernelspec": {
      "name": "python3",
      "display_name": "Python 3"
    },
    "language_info": {
      "name": "python"
    }
  },
  "cells": [
    {
      "cell_type": "markdown",
      "metadata": {
        "id": "view-in-github",
        "colab_type": "text"
      },
      "source": [
        "<a href=\"https://colab.research.google.com/github/OSCAREDUARDOMEDINAHERNANDEZ/TAREAS_PROGRAMACION_APLICADA/blob/main/CONTRASE%C3%91A.ipynb\" target=\"_parent\"><img src=\"https://colab.research.google.com/assets/colab-badge.svg\" alt=\"Open In Colab\"/></a>"
      ]
    },
    {
      "cell_type": "code",
      "execution_count": 37,
      "metadata": {
        "colab": {
          "base_uri": "https://localhost:8080/"
        },
        "id": "yEewFy7fjkhn",
        "outputId": "61265755-5665-4ed6-ff16-8621aeae874b"
      },
      "outputs": [
        {
          "output_type": "stream",
          "name": "stdout",
          "text": [
            "INGRESE SU CONTRASEÑA : 1234\n",
            "ingresó\n"
          ]
        }
      ],
      "source": [
        "contrasena=\"1234\"\n",
        "while True:\n",
        "  entrada=input(\"INGRESE SU CONTRASEÑA : \")\n",
        "  if (contrasena==entrada):\n",
        "    print(\"ingresó\")\n",
        "    break\n",
        "  else:\n",
        "      print(\"CONTRASEÑA INCORRECTA VUELVE A INGRESARLA \")\n"
      ]
    }
  ]
}