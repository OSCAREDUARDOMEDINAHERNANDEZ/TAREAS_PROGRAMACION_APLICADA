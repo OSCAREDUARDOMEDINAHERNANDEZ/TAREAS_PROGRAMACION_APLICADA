{
  "nbformat": 4,
  "nbformat_minor": 0,
  "metadata": {
    "colab": {
      "provenance": [],
      "authorship_tag": "ABX9TyOFO2VKPfFDX9AHZIZtw8+J",
      "include_colab_link": true
    },
    "kernelspec": {
      "name": "python3",
      "display_name": "Python 3"
    },
    "language_info": {
      "name": "python"
    }
  },
  "cells": [
    {
      "cell_type": "markdown",
      "metadata": {
        "id": "view-in-github",
        "colab_type": "text"
      },
      "source": [
        "<a href=\"https://colab.research.google.com/github/OSCAREDUARDOMEDINAHERNANDEZ/TAREAS_PROGRAMACION_APLICADA/blob/main/Taller_2_de_POO_Herencia.ipynb\" target=\"_parent\"><img src=\"https://colab.research.google.com/assets/colab-badge.svg\" alt=\"Open In Colab\"/></a>"
      ]
    },
    {
      "cell_type": "code",
      "execution_count": null,
      "metadata": {
        "colab": {
          "base_uri": "https://localhost:8080/"
        },
        "id": "-jOcI-OlBwB5",
        "outputId": "c0fd7de5-6de3-471c-8ddb-ea6bc295235f"
      },
      "outputs": [
        {
          "output_type": "stream",
          "name": "stdout",
          "text": [
            "Color ROJO, 4 ruedas, 150 km/h, 1200 cc\n"
          ]
        }
      ],
      "source": [
        "class Vehiculo():\n",
        "    def __init__(self, color, ruedas):\n",
        "        self.color = color\n",
        "        self.ruedas = ruedas\n",
        "    def __str__(self):\n",
        "        return \"Color {}, {} ruedas\".format( self.color, self.ruedas )\n",
        "class Coche(Vehiculo):\n",
        "    def __init__(self, color, ruedas, velocidad, cilindrada):\n",
        "        Vehiculo.__init__(self, color, ruedas)\n",
        "        self.velocidad = velocidad\n",
        "        self.cilindrada = cilindrada\n",
        "    def __str__(self):\n",
        "        return Vehiculo.__str__(self) + \", {} km/h, {} cc\".format(self.velocidad, self.cilindrada)\n",
        "c = Coche(\"ROJO\", 4, 150, 1200)\n",
        "print(c)\n",
        "#print(type(c).__name__,c)"
      ]
    },
    {
      "cell_type": "code",
      "source": [
        "class Vehiculo():\n",
        "\n",
        "    def __init__(self, color, ruedas):\n",
        "        self.color = color\n",
        "        self.ruedas = ruedas\n",
        "\n",
        "    def __str__(self):\n",
        "        return \"color {}, {} ruedas\".format( self.color, self.ruedas )\n",
        "\n",
        "\n",
        "class Coche(Vehiculo):\n",
        "\n",
        "    def __init__(self, color, ruedas, velocidad, cilindrada):\n",
        "        super().__init__(color, ruedas)  # utilizamos super()\n",
        "        self.velocidad = velocidad\n",
        "        self.cilindrada = cilindrada\n",
        "\n",
        "    def __str__(self):\n",
        "        return super().__str__() + \", {} km/h, {} cc\".format(\n",
        "            self.velocidad, self.cilindrada)\n"
      ],
      "metadata": {
        "id": "1H7qgsukCGry"
      },
      "execution_count": null,
      "outputs": []
    }
  ]
}