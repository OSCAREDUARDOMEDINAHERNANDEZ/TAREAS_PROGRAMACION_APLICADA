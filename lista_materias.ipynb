{
  "nbformat": 4,
  "nbformat_minor": 0,
  "metadata": {
    "colab": {
      "provenance": [],
      "authorship_tag": "ABX9TyMFSlBMJp/Rs+pnHOL9nF+j",
      "include_colab_link": true
    },
    "kernelspec": {
      "name": "python3",
      "display_name": "Python 3"
    },
    "language_info": {
      "name": "python"
    }
  },
  "cells": [
    {
      "cell_type": "markdown",
      "metadata": {
        "id": "view-in-github",
        "colab_type": "text"
      },
      "source": [
        "<a href=\"https://colab.research.google.com/github/OSCAREDUARDOMEDINAHERNANDEZ/TAREAS_PROGRAMACION_APLICADA/blob/main/lista_materias.ipynb\" target=\"_parent\"><img src=\"https://colab.research.google.com/assets/colab-badge.svg\" alt=\"Open In Colab\"/></a>"
      ]
    },
    {
      "cell_type": "code",
      "source": [
        "num_materias=int (input(\"ingrese # materias\"));listamat=[]\n",
        "for i in range (num_materias):\n",
        "  materia= input(\"ingrese la materia \"+str(i+1))\n",
        "  listamat.append (materia)\n",
        "  print(listamat)"
      ],
      "metadata": {
        "colab": {
          "base_uri": "https://localhost:8080/"
        },
        "id": "w_mFDa8xs8XR",
        "outputId": "939945c5-4bf0-45b9-9e36-5f60cc8ee93b"
      },
      "execution_count": null,
      "outputs": [
        {
          "output_type": "stream",
          "name": "stdout",
          "text": [
            "ingrese # materias1\n",
            "ingrese la materia 1lol\n",
            "['lol']\n"
          ]
        }
      ]
    },
    {
      "cell_type": "code",
      "source": [
        "notas=[]\n",
        "for i in range(len(listamat)):\n",
        "  while True:\n",
        "    nota= float(input (\"ingrese la nota que espera de\"+listamat[i]+':'))\n",
        "    if nota>5 or nota<0:\n",
        "      print(\"ingrese una nota valida\")\n",
        "    else:\n",
        "        notas.append(nota)\n",
        "        break\n",
        "print(notas)\n"
      ],
      "metadata": {
        "colab": {
          "base_uri": "https://localhost:8080/"
        },
        "id": "ZIgnpOVCdM8x",
        "outputId": "848a79a4-e804-4eed-c74f-253f49528c37"
      },
      "execution_count": null,
      "outputs": [
        {
          "output_type": "stream",
          "name": "stdout",
          "text": [
            "ingrese la nota que espera delol:5\n",
            "[5.0]\n"
          ]
        }
      ]
    }
  ]
}