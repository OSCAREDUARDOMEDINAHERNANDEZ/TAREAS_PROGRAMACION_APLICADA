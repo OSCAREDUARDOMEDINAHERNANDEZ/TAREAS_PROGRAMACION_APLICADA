{
  "nbformat": 4,
  "nbformat_minor": 0,
  "metadata": {
    "colab": {
      "provenance": [],
      "toc_visible": true,
      "authorship_tag": "ABX9TyPCsIm54j2uBApnukEQO6NQ",
      "include_colab_link": true
    },
    "kernelspec": {
      "name": "python3",
      "display_name": "Python 3"
    },
    "language_info": {
      "name": "python"
    }
  },
  "cells": [
    {
      "cell_type": "markdown",
      "metadata": {
        "id": "view-in-github",
        "colab_type": "text"
      },
      "source": [
        "<a href=\"https://colab.research.google.com/github/OSCAREDUARDOMEDINAHERNANDEZ/TAREAS_PROGRAMACION_APLICADA/blob/main/segundos_ejercicios_listas.ipynb\" target=\"_parent\"><img src=\"https://colab.research.google.com/assets/colab-badge.svg\" alt=\"Open In Colab\"/></a>"
      ]
    },
    {
      "cell_type": "code",
      "source": [
        "\n",
        "num_materias=int (input(\"ingrese # materias\"));listamat=[]\n",
        "for i in range (num_materias):\n",
        "  materia= input(\"ingrese la materia \"+str(i+1))\n",
        "  listamat.append (materia)\n",
        "  print(listamat)"
      ],
      "metadata": {
        "colab": {
          "base_uri": "https://localhost:8080/"
        },
        "id": "w_mFDa8xs8XR",
        "outputId": "cfe6c4d7-1b41-44d5-ba83-3b5cc7b67b13"
      },
      "execution_count": null,
      "outputs": [
        {
          "output_type": "stream",
          "name": "stdout",
          "text": [
            "ingrese # materias3\n",
            "ingrese la materia 1matematicas\n",
            "['matematicas']\n",
            "ingrese la materia 2ingles\n",
            "['matematicas', 'ingles']\n",
            "ingrese la materia 3etica\n",
            "['matematicas', 'ingles', 'etica']\n"
          ]
        }
      ]
    },
    {
      "cell_type": "code",
      "source": [
        "notas=[]\n",
        "for i in range(len(listamat)):\n",
        "  while True:\n",
        "    nota= float(input (\"ingrese la nota que espera de\"+listamat[i]+':'))\n",
        "    if nota>5 or nota<0:\n",
        "      print(\"ingrese una nota valida\")\n",
        "    else:\n",
        "        notas.append(nota)\n",
        "        break\n",
        "print(notas)\n"
      ],
      "metadata": {
        "colab": {
          "base_uri": "https://localhost:8080/"
        },
        "id": "ZIgnpOVCdM8x",
        "outputId": "2ff4446e-93ab-4c1c-8952-92e70dd81632"
      },
      "execution_count": null,
      "outputs": [
        {
          "output_type": "stream",
          "name": "stdout",
          "text": [
            "ingrese la nota que espera dematematicas:2.0\n",
            "ingrese la nota que espera deingles:3.0\n",
            "ingrese la nota que espera deetica:4.5\n",
            "[2.0, 3.0, 4.5]\n"
          ]
        }
      ]
    },
    {
      "cell_type": "code",
      "source": [],
      "metadata": {
        "id": "rdgjVV4rPAx1"
      },
      "execution_count": null,
      "outputs": []
    },
    {
      "cell_type": "code",
      "source": [
        "aprobadas=[]\n",
        "reprobadas=[]\n",
        "\n",
        "for i in range(len(listamat)):\n",
        "  if notas[i]<3:\n",
        "    reprobadas.append(listamat[i])\n",
        "  else:\n",
        "    aprobadas.append(listamat[i])\n",
        "\n",
        "print(\"Materias aprobadas\",aprobadas)\n",
        "print(\"Materias reprobadas\",reprobadas)"
      ],
      "metadata": {
        "colab": {
          "base_uri": "https://localhost:8080/"
        },
        "id": "nYLi9h2BPAyj",
        "outputId": "d09434c7-771a-44ff-b64e-2d1fa409bfe6"
      },
      "execution_count": null,
      "outputs": [
        {
          "output_type": "stream",
          "name": "stdout",
          "text": [
            "Materias aprobadas ['ingles', 'etica']\n",
            "Materias reprobadas ['matematicas']\n"
          ]
        }
      ]
    },
    {
      "cell_type": "code",
      "source": [
        "palabra= input(\"ingrese la frase para comprobar si es palindromo\")\n",
        "palabra=palabra.lower()\n",
        "palabra=palabra.replace(' ','')\n",
        "palabralist=list(palabra)\n",
        "palabralist2=palabralist.copy()\n",
        "palabralist2.reverse()\n",
        "print(palabralist2)\n",
        "print(palabralist)\n",
        "\n",
        "if palabralist == palabralist2:\n",
        "  print(\"es palindromo\")\n",
        "else:\n",
        "  print(\"no es palindromo\")"
      ],
      "metadata": {
        "colab": {
          "base_uri": "https://localhost:8080/"
        },
        "id": "fYmNw90bQ1Ej",
        "outputId": "7f264b48-94c3-4b56-a52e-641680eec7d9"
      },
      "execution_count": null,
      "outputs": [
        {
          "output_type": "stream",
          "name": "stdout",
          "text": [
            "ingrese la frase para comprobar si es palindromoana lava lana\n",
            "['a', 'n', 'a', 'l', 'a', 'v', 'a', 'l', 'a', 'n', 'a']\n",
            "['a', 'n', 'a', 'l', 'a', 'v', 'a', 'l', 'a', 'n', 'a']\n",
            "es palindromo\n"
          ]
        }
      ]
    },
    {
      "cell_type": "code",
      "source": [
        "#\n",
        "listastr=input(\"ingrese numeros de la lista separados por una ,\")\n",
        "\n",
        "lista=listastr.split(',')\n",
        "\n",
        "lista=[float(element) for element in lista]\n",
        "\n",
        "print(lista)"
      ],
      "metadata": {
        "colab": {
          "base_uri": "https://localhost:8080/"
        },
        "id": "extgXzXAozYs",
        "outputId": "517f09ea-79a5-47b5-8888-20a84768a4c0"
      },
      "execution_count": null,
      "outputs": [
        {
          "output_type": "stream",
          "name": "stdout",
          "text": [
            "ingrese numeros de la lista separados por una ,5,6,8,4,7\n",
            "[5.0, 6.0, 8.0, 4.0, 7.0]\n"
          ]
        }
      ]
    },
    {
      "cell_type": "code",
      "source": [
        "\n"
      ],
      "metadata": {
        "colab": {
          "base_uri": "https://localhost:8080/"
        },
        "id": "0NiC5tmip0ic",
        "outputId": "e38c02fd-a4f7-41d3-8267-197f86a223f8"
      },
      "execution_count": null,
      "outputs": [
        {
          "output_type": "stream",
          "name": "stdout",
          "text": [
            "ingrese valores de vector 1 separados por una comas1,2,3\n",
            "[1.0, 2.0, 3.0]\n",
            "ingrese valores de vector 2 separados por una comas3,2,5\n",
            "[1.0, 2.0, 3.0]\n",
            "14.0\n"
          ]
        }
      ]
    },
    {
      "cell_type": "markdown",
      "source": [
        "# Nueva sección"
      ],
      "metadata": {
        "id": "vKGZuMXDwEOu"
      }
    },
    {
      "cell_type": "code",
      "source": [
        "import numpy as np\n",
        "v1str=input(\"ingrese valores de vector 1 separados por una comas\")\n",
        "v1=v1str.split(\",\")\n",
        "v1=[float(objeto)for objeto in v1]\n",
        "print (v1)\n",
        "v2str=input(\"ingrese valores de vector 2 separados por una comas\")\n",
        "v2=v1str.split(\",\")\n",
        "v2=[float(element)for element in v2]\n",
        "print (v2)\n",
        "res=np.dot(v1,v2)\n",
        "print(res)\n"
      ],
      "metadata": {
        "id": "XSudrra7wKSt"
      },
      "execution_count": null,
      "outputs": []
    },
    {
      "cell_type": "code",
      "source": [
        "\n",
        "cambio=int(input(\"ingrese la cantidad de cambio\"))\n",
        "denominaciones=[100000,50000,20000,10000,5000,2000,1000,500,200,100,50]\n",
        "print(\"su cambio es: \")\n",
        "for denominacion in denominaciones:\n",
        "  cantidad=int(cambio//denominacion)\n",
        "  cambio=cambio%denominacion\n",
        "  if cantidad>0:\n",
        "    print(cantidad,\"de \",denominacion)"
      ],
      "metadata": {
        "colab": {
          "base_uri": "https://localhost:8080/"
        },
        "id": "VK1YrTeV0jMa",
        "outputId": "2480cf2f-1624-4a77-fe35-028011838b76"
      },
      "execution_count": null,
      "outputs": [
        {
          "output_type": "stream",
          "name": "stdout",
          "text": [
            "ingrese la cantidad de cambio25500\n",
            "su cambio es: \n",
            "1 de  20000\n",
            "1 de  5000\n",
            "1 de  500\n"
          ]
        }
      ]
    },
    {
      "cell_type": "code",
      "source": [],
      "metadata": {
        "id": "vQDsj5vl2tHa"
      },
      "execution_count": null,
      "outputs": []
    },
    {
      "cell_type": "code",
      "source": [],
      "metadata": {
        "id": "bYczTWR4vWY_"
      },
      "execution_count": null,
      "outputs": []
    }
  ]
}