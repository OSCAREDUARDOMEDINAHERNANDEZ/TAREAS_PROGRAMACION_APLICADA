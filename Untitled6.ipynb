{
  "nbformat": 4,
  "nbformat_minor": 0,
  "metadata": {
    "colab": {
      "provenance": [],
      "authorship_tag": "ABX9TyPnDEDWkq3iDAEhriSKI/gO",
      "include_colab_link": true
    },
    "kernelspec": {
      "name": "python3",
      "display_name": "Python 3"
    },
    "language_info": {
      "name": "python"
    }
  },
  "cells": [
    {
      "cell_type": "markdown",
      "metadata": {
        "id": "view-in-github",
        "colab_type": "text"
      },
      "source": [
        "<a href=\"https://colab.research.google.com/github/OSCAREDUARDOMEDINAHERNANDEZ/TAREAS_PROGRAMACION_APLICADA/blob/main/Untitled6.ipynb\" target=\"_parent\"><img src=\"https://colab.research.google.com/assets/colab-badge.svg\" alt=\"Open In Colab\"/></a>"
      ]
    },
    {
      "cell_type": "code",
      "execution_count": null,
      "metadata": {
        "id": "eJSHYWl_U9_z"
      },
      "outputs": [],
      "source": [
        "int suma (int a, int b  ){\n",
        "    int c = a+b \n",
        "    return c;\n",
        "}"
      ]
    },
    {
      "cell_type": "code",
      "source": [
        "def suma(a,b):\n",
        "  c=a+b\n",
        "  return c\n",
        "  "
      ],
      "metadata": {
        "id": "I0617xjFV15w"
      },
      "execution_count": null,
      "outputs": []
    },
    {
      "cell_type": "code",
      "source": [
        "def saludo ():\n",
        "  print(\"hola oscar\")"
      ],
      "metadata": {
        "id": "cQoa2ZRVWF36"
      },
      "execution_count": null,
      "outputs": []
    },
    {
      "cell_type": "code",
      "source": [
        "\n",
        "void saludo(){\n",
        "    system.out.println(\"hola carlos\");"
      ],
      "metadata": {
        "id": "9zl9aIQpWlJt"
      },
      "execution_count": null,
      "outputs": []
    },
    {
      "cell_type": "code",
      "source": [
        "def contacto(**info):\n",
        "   print('Datos del contacto)\n",
        "   for clave, valor in info.items():\n",
        "     print(clave, \":\", valor)\n",
        "     return\n",
        "    contacto=()\n"
      ],
      "metadata": {
        "colab": {
          "base_uri": "https://localhost:8080/",
          "height": 130
        },
        "id": "R6qv7kKgW1VO",
        "outputId": "a68d9018-51b1-4ec6-f236-eb983605ce3e"
      },
      "execution_count": null,
      "outputs": [
        {
          "output_type": "error",
          "ename": "SyntaxError",
          "evalue": "ignored",
          "traceback": [
            "\u001b[0;36m  File \u001b[0;32m\"<ipython-input-8-193eed250ef4>\"\u001b[0;36m, line \u001b[0;32m2\u001b[0m\n\u001b[0;31m    print('Datos del contacto)\u001b[0m\n\u001b[0m                              ^\u001b[0m\n\u001b[0;31mSyntaxError\u001b[0m\u001b[0;31m:\u001b[0m EOL while scanning string literal\n"
          ]
        }
      ]
    },
    {
      "cell_type": "code",
      "source": [
        "def descuento (precio,porcentaje):\n",
        "  precionuv=precio*(100-porcentaje)/100\n",
        "  return precionuv\n",
        "\n",
        "def iva(precio,porcentaje):\n",
        "    precionuv=precio*(100+porcentaje)/100\n",
        "    return precionuv\n",
        "print(descuento(10000,20))\n",
        "print(iva(10000,19))\n",
        "\n",
        "def calcular (cesta,funcion ):\n",
        "  values=[]\n",
        "  for precio , porcentaje in cesta.items():\n",
        "    values.append(funcion(precio,porcentaje))\n",
        "  return values,sum(values)\n",
        "cesta={10000:20,50000:30,4000:3}\n",
        "\n",
        "preciosdesc,totaldesc=calcular(cesta,descuento)\n",
        "preciosiva,totaliva=calcular(cesta,iva)\n",
        "print(preciosdesc,totaliva)\n",
        "print(preciosiva,totaliva)\n",
        "                                                          "
      ],
      "metadata": {
        "colab": {
          "base_uri": "https://localhost:8080/"
        },
        "id": "7QoRrO9fd0RG",
        "outputId": "8113bc7a-ccbf-4337-fdde-018953e879c1"
      },
      "execution_count": null,
      "outputs": [
        {
          "output_type": "stream",
          "name": "stdout",
          "text": [
            "8000.0\n",
            "11900.0\n",
            "[8000.0, 35000.0, 3880.0] 81120.0\n",
            "[12000.0, 65000.0, 4120.0] 81120.0\n"
          ]
        }
      ]
    },
    {
      "cell_type": "code",
      "source": [
        "def decimal_binario(num):\n",
        "  value=[]\n",
        "  power=0\n",
        "  while(2**power<numero):\n",
        "    power+=1\n",
        "    while(power>=0):\n",
        "      power-=1\n",
        "      bit=numero//(2)"
      ],
      "metadata": {
        "id": "Nqsi3lMulIFR"
      },
      "execution_count": null,
      "outputs": []
    }
  ]
}