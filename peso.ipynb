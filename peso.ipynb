{
  "nbformat": 4,
  "nbformat_minor": 0,
  "metadata": {
    "colab": {
      "provenance": [],
      "authorship_tag": "ABX9TyMZ58Bw6zIlcwq8OEqWgoIL",
      "include_colab_link": true
    },
    "kernelspec": {
      "name": "python3",
      "display_name": "Python 3"
    },
    "language_info": {
      "name": "python"
    }
  },
  "cells": [
    {
      "cell_type": "markdown",
      "metadata": {
        "id": "view-in-github",
        "colab_type": "text"
      },
      "source": [
        "<a href=\"https://colab.research.google.com/github/OSCAREDUARDOMEDINAHERNANDEZ/TAREAS_PROGRAMACION_APLICADA/blob/main/peso.ipynb\" target=\"_parent\"><img src=\"https://colab.research.google.com/assets/colab-badge.svg\" alt=\"Open In Colab\"/></a>"
      ]
    },
    {
      "cell_type": "code",
      "execution_count": 1,
      "metadata": {
        "id": "hlF_DVelVGGO",
        "outputId": "9126b005-0b5d-4ce9-8510-446e869f42d2",
        "colab": {
          "base_uri": "https://localhost:8080/"
        }
      },
      "outputs": [
        {
          "output_type": "stream",
          "name": "stdout",
          "text": [
            "ingrese su altura1.62\n",
            "ingrese su peso45\n",
            "su peso ideal es:  62.99\n"
          ]
        }
      ],
      "source": [
        "altura=float (input(\"ingrese su altura\"))\n",
        "peso=float  (input(\"ingrese su peso\"))\n",
        "imc=24\n",
        "\n",
        "s=float (altura**2*imc)\n",
        "print(\"su peso ideal es: \",round(s,2))\n",
        "\n",
        "  \n"
      ]
    },
    {
      "cell_type": "code",
      "source": [],
      "metadata": {
        "id": "JxOhKnaSWrPT"
      },
      "execution_count": null,
      "outputs": []
    }
  ]
}